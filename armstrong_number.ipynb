{
 "cells": [
  {
   "cell_type": "markdown",
   "id": "fd6df5ee-1739-45f2-b9a7-57a809a512a3",
   "metadata": {},
   "source": [
    "### Check if the given number is an Armstrong number"
   ]
  },
  {
   "cell_type": "code",
   "execution_count": 1,
   "id": "ad8be6c9-025e-4c4d-87b7-71c6b87fcf11",
   "metadata": {},
   "outputs": [
    {
     "name": "stdin",
     "output_type": "stream",
     "text": [
      " 153\n"
     ]
    },
    {
     "name": "stdout",
     "output_type": "stream",
     "text": [
      "Yes\n"
     ]
    }
   ],
   "source": [
    "num = input()\n",
    "\n",
    "def armstrong(num): \n",
    "    result = 0\n",
    "    for i in num:\n",
    "        result += int(i)**3\n",
    "    return result\n",
    "\n",
    "if int(num) == armstrong(num):\n",
    "    #print(int(num))\n",
    "    #print(result)\n",
    "    print(\"Yes\")\n",
    "else:\n",
    "    print(\"No\")"
   ]
  },
  {
   "cell_type": "code",
   "execution_count": 2,
   "id": "c5a1d3bb-a956-4726-ad24-9a467b9880be",
   "metadata": {},
   "outputs": [
    {
     "name": "stdin",
     "output_type": "stream",
     "text": [
      " 407\n"
     ]
    },
    {
     "name": "stdout",
     "output_type": "stream",
     "text": [
      "Yes\n"
     ]
    }
   ],
   "source": [
    "num = input()\n",
    "\n",
    "def armstrong(num): \n",
    "    result = 0\n",
    "    for i in num:\n",
    "        result += int(i)**3\n",
    "    return result\n",
    "\n",
    "if int(num) == armstrong(num):\n",
    "    #print(int(num))\n",
    "    #print(result)\n",
    "    print(\"Yes\")\n",
    "else:\n",
    "    print(\"No\")"
   ]
  },
  {
   "cell_type": "code",
   "execution_count": 3,
   "id": "e8497431-f4e8-447d-a64f-6879a3aae2cb",
   "metadata": {},
   "outputs": [
    {
     "name": "stdin",
     "output_type": "stream",
     "text": [
      " 176\n"
     ]
    },
    {
     "name": "stdout",
     "output_type": "stream",
     "text": [
      "No\n"
     ]
    }
   ],
   "source": [
    "num = input()\n",
    "\n",
    "def armstrong(num): \n",
    "    result = 0\n",
    "    for i in num:\n",
    "        result += int(i)**3\n",
    "    return result\n",
    "\n",
    "if int(num) == armstrong(num):\n",
    "    #print(int(num))\n",
    "    #print(result)\n",
    "    print(\"Yes\")\n",
    "else:\n",
    "    print(\"No\")"
   ]
  },
  {
   "cell_type": "code",
   "execution_count": null,
   "id": "9c75f1f4-1ccf-4361-91d1-e3ac3a0323b4",
   "metadata": {},
   "outputs": [],
   "source": []
  },
  {
   "cell_type": "code",
   "execution_count": null,
   "id": "1e65f38d-bee5-4d4d-be7f-80f8b7f8e632",
   "metadata": {},
   "outputs": [],
   "source": []
  },
  {
   "cell_type": "code",
   "execution_count": null,
   "id": "55619b9d-eb70-4a6b-82b2-3c5ab85cd40e",
   "metadata": {},
   "outputs": [],
   "source": []
  },
  {
   "cell_type": "code",
   "execution_count": null,
   "id": "99fea82c-9301-42c1-98fd-bed39be0a7a3",
   "metadata": {},
   "outputs": [],
   "source": []
  }
 ],
 "metadata": {
  "kernelspec": {
   "display_name": "Python 3 (ipykernel)",
   "language": "python",
   "name": "python3"
  },
  "language_info": {
   "codemirror_mode": {
    "name": "ipython",
    "version": 3
   },
   "file_extension": ".py",
   "mimetype": "text/x-python",
   "name": "python",
   "nbconvert_exporter": "python",
   "pygments_lexer": "ipython3",
   "version": "3.12.4"
  }
 },
 "nbformat": 4,
 "nbformat_minor": 5
}
