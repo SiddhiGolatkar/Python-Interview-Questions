{
 "cells": [
  {
   "cell_type": "markdown",
   "id": "11f5ba96-49ab-45b5-ab71-4a952bfc31f9",
   "metadata": {},
   "source": [
    "### Remove Characters from the given String"
   ]
  },
  {
   "cell_type": "code",
   "execution_count": 1,
   "id": "7cd46ff3-9290-49f7-8c9a-965e1c607faa",
   "metadata": {},
   "outputs": [],
   "source": [
    "s = \"siddhi#$@$$%\""
   ]
  },
  {
   "cell_type": "code",
   "execution_count": 2,
   "id": "970ec108-8c90-430b-ad13-b4f4016fd519",
   "metadata": {},
   "outputs": [],
   "source": [
    "# sol 1\n",
    "\n",
    "import re\n",
    "word1 = \" \".join(re.findall(\"[a-zA-Z]+\", s))"
   ]
  },
  {
   "cell_type": "code",
   "execution_count": 3,
   "id": "08ca357f-902e-4dd5-aaa7-209ebe12668f",
   "metadata": {},
   "outputs": [
    {
     "data": {
      "text/plain": [
       "'siddhi'"
      ]
     },
     "execution_count": 3,
     "metadata": {},
     "output_type": "execute_result"
    }
   ],
   "source": [
    "word1"
   ]
  },
  {
   "cell_type": "code",
   "execution_count": 4,
   "id": "c64ad3b6-33ed-4f44-a421-0c7063550b75",
   "metadata": {},
   "outputs": [
    {
     "data": {
      "text/plain": [
       "'siddhi'"
      ]
     },
     "execution_count": 4,
     "metadata": {},
     "output_type": "execute_result"
    }
   ],
   "source": [
    "# sol 2\n",
    "\n",
    "s.replace(\"#$@$$%\", \"\")"
   ]
  },
  {
   "cell_type": "code",
   "execution_count": 5,
   "id": "59cdf284-699e-4e42-a89c-ce538c2a8579",
   "metadata": {},
   "outputs": [
    {
     "data": {
      "text/plain": [
       "'siddhi'"
      ]
     },
     "execution_count": 5,
     "metadata": {},
     "output_type": "execute_result"
    }
   ],
   "source": [
    "# sol 3\n",
    "\n",
    "s.translate({ord(i): None for i in \"#$@$$%\"})"
   ]
  },
  {
   "cell_type": "code",
   "execution_count": 6,
   "id": "e17fd5f5-1b26-4920-ac55-45638f196c8b",
   "metadata": {},
   "outputs": [
    {
     "data": {
      "text/plain": [
       "'siddhi'"
      ]
     },
     "execution_count": 6,
     "metadata": {},
     "output_type": "execute_result"
    }
   ],
   "source": [
    "# sol 4\n",
    "\n",
    "\"\".join(re.sub(\"[^A-za-z]\",\"\", s))"
   ]
  },
  {
   "cell_type": "code",
   "execution_count": 7,
   "id": "0eaa2700-df8f-4dc5-bf0f-56acffdb5365",
   "metadata": {},
   "outputs": [
    {
     "data": {
      "text/plain": [
       "'siddhi'"
      ]
     },
     "execution_count": 7,
     "metadata": {},
     "output_type": "execute_result"
    }
   ],
   "source": [
    "# sol 5\n",
    "\n",
    "\"\".join(filter(str.isalpha, s))"
   ]
  },
  {
   "cell_type": "code",
   "execution_count": null,
   "id": "a85b076b-08c2-4daa-87f6-bbf4b1b8dd67",
   "metadata": {},
   "outputs": [],
   "source": []
  },
  {
   "cell_type": "code",
   "execution_count": null,
   "id": "de9865a9-e965-485f-a14d-c686043bab08",
   "metadata": {},
   "outputs": [],
   "source": []
  },
  {
   "cell_type": "code",
   "execution_count": null,
   "id": "41f8c88f-7a46-44ae-933b-9d9eec068041",
   "metadata": {},
   "outputs": [],
   "source": []
  },
  {
   "cell_type": "code",
   "execution_count": null,
   "id": "7f95f8f4-8ed7-42ce-8d64-9df139a95a55",
   "metadata": {},
   "outputs": [],
   "source": []
  }
 ],
 "metadata": {
  "kernelspec": {
   "display_name": "Python 3 (ipykernel)",
   "language": "python",
   "name": "python3"
  },
  "language_info": {
   "codemirror_mode": {
    "name": "ipython",
    "version": 3
   },
   "file_extension": ".py",
   "mimetype": "text/x-python",
   "name": "python",
   "nbconvert_exporter": "python",
   "pygments_lexer": "ipython3",
   "version": "3.12.4"
  }
 },
 "nbformat": 4,
 "nbformat_minor": 5
}
