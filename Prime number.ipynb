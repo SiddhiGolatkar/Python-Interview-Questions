{
 "cells": [
  {
   "cell_type": "markdown",
   "id": "17f20ebc-a5e2-412e-ba78-3b42d2a50c30",
   "metadata": {},
   "source": [
    "### check if the given number is a prime number"
   ]
  },
  {
   "cell_type": "code",
   "execution_count": 1,
   "id": "443a40c0-dc0d-4075-9a46-528ed646cde1",
   "metadata": {},
   "outputs": [
    {
     "name": "stdin",
     "output_type": "stream",
     "text": [
      " 10\n"
     ]
    },
    {
     "name": "stdout",
     "output_type": "stream",
     "text": [
      "10 is not a prime number\n"
     ]
    }
   ],
   "source": [
    "num = int(input())\n",
    "\n",
    "for i in range(2,num):\n",
    "    flag = 0\n",
    "    if num % 2 == 0:\n",
    "        flag = 1\n",
    "        break\n",
    "if flag == 0:\n",
    "    print(num, \"is a prime number\")\n",
    "else:\n",
    "    print(num, \"is not a prime number\")"
   ]
  },
  {
   "cell_type": "code",
   "execution_count": 2,
   "id": "ec2052e4-8679-40be-8891-8bf623704fcc",
   "metadata": {},
   "outputs": [
    {
     "name": "stdin",
     "output_type": "stream",
     "text": [
      " 91\n"
     ]
    },
    {
     "name": "stdout",
     "output_type": "stream",
     "text": [
      "91 is a prime number\n"
     ]
    }
   ],
   "source": [
    "num = int(input())\n",
    "\n",
    "for i in range(2,num):\n",
    "    flag = 0\n",
    "    if num % 2 == 0:\n",
    "        flag = 1\n",
    "        break\n",
    "if flag == 0:\n",
    "    print(num, \"is a prime number\")\n",
    "else:\n",
    "    print(num, \"is not a prime number\")"
   ]
  },
  {
   "cell_type": "markdown",
   "id": "60b3db6b-965c-471f-aa3d-3a1914f242b7",
   "metadata": {},
   "source": [
    "### print all the prime numbers between a given range"
   ]
  },
  {
   "cell_type": "code",
   "execution_count": 3,
   "id": "3f9b098f-9818-4a4c-b703-34d85940142a",
   "metadata": {},
   "outputs": [
    {
     "name": "stdin",
     "output_type": "stream",
     "text": [
      " 900\n",
      " 1000\n"
     ]
    },
    {
     "name": "stdout",
     "output_type": "stream",
     "text": [
      "907\t911\t919\t929\t937\t941\t947\t953\t967\t971\t977\t983\t991\t997\t"
     ]
    }
   ],
   "source": [
    "start = int(input())\n",
    "stop = int(input())\n",
    "\n",
    "for i in range(start, stop + 1):\n",
    "    flag = 0\n",
    "    for j in range(2, i):\n",
    "        if i%j == 0:\n",
    "            flag = 1\n",
    "            break\n",
    "    if flag == 0:\n",
    "        print(i, end = '\\t')"
   ]
  },
  {
   "cell_type": "code",
   "execution_count": null,
   "id": "b5f7ab05-f875-4d4a-b791-7eb1ffbd7bb9",
   "metadata": {},
   "outputs": [],
   "source": []
  },
  {
   "cell_type": "code",
   "execution_count": null,
   "id": "54f51901-dfc0-4fb6-ae1e-c33859e01534",
   "metadata": {},
   "outputs": [],
   "source": []
  },
  {
   "cell_type": "code",
   "execution_count": null,
   "id": "b08b6528-d75b-42b8-9ae0-a84f14b125d2",
   "metadata": {},
   "outputs": [],
   "source": []
  },
  {
   "cell_type": "code",
   "execution_count": null,
   "id": "67cfb582-f9b8-42b1-9f0a-9dda7e2b9303",
   "metadata": {},
   "outputs": [],
   "source": []
  },
  {
   "cell_type": "code",
   "execution_count": null,
   "id": "be21f6e4-9b30-4a97-9496-26c466800c79",
   "metadata": {},
   "outputs": [],
   "source": []
  }
 ],
 "metadata": {
  "kernelspec": {
   "display_name": "Python 3 (ipykernel)",
   "language": "python",
   "name": "python3"
  },
  "language_info": {
   "codemirror_mode": {
    "name": "ipython",
    "version": 3
   },
   "file_extension": ".py",
   "mimetype": "text/x-python",
   "name": "python",
   "nbconvert_exporter": "python",
   "pygments_lexer": "ipython3",
   "version": "3.12.4"
  }
 },
 "nbformat": 4,
 "nbformat_minor": 5
}
