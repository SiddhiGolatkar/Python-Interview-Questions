{
 "cells": [
  {
   "cell_type": "markdown",
   "id": "ef62079c-bab4-469c-a703-0c098e14250d",
   "metadata": {},
   "source": [
    "### solution 1 - using max function"
   ]
  },
  {
   "cell_type": "code",
   "execution_count": 1,
   "id": "f73b273f-1032-4b72-8571-a13875d47915",
   "metadata": {},
   "outputs": [],
   "source": [
    "a = [10,20,30,40,50,100]"
   ]
  },
  {
   "cell_type": "code",
   "execution_count": 2,
   "id": "1384531f-7643-4484-8cf4-49e12604bc3f",
   "metadata": {},
   "outputs": [
    {
     "data": {
      "text/plain": [
       "100"
      ]
     },
     "execution_count": 2,
     "metadata": {},
     "output_type": "execute_result"
    }
   ],
   "source": [
    "max(a)"
   ]
  },
  {
   "cell_type": "markdown",
   "id": "1c4b165b-d092-4e8c-a403-3babbfad58a2",
   "metadata": {},
   "source": [
    "### Solution 2  - using sort function"
   ]
  },
  {
   "cell_type": "code",
   "execution_count": 3,
   "id": "0e115651-736c-4801-bfab-1973be48e544",
   "metadata": {},
   "outputs": [],
   "source": [
    "a = [10,20,30,40,50,100,80,60,70]"
   ]
  },
  {
   "cell_type": "code",
   "execution_count": 4,
   "id": "fa5b43ca-641b-433b-bb1e-d5df4097a254",
   "metadata": {},
   "outputs": [],
   "source": [
    "def find_max_num(a):\n",
    "    a.sort()\n",
    "    return a[-1]"
   ]
  },
  {
   "cell_type": "code",
   "execution_count": 5,
   "id": "d5686fe7-2393-4c93-b061-8ce8ba459144",
   "metadata": {},
   "outputs": [
    {
     "data": {
      "text/plain": [
       "100"
      ]
     },
     "execution_count": 5,
     "metadata": {},
     "output_type": "execute_result"
    }
   ],
   "source": [
    "find_max_num(a)"
   ]
  },
  {
   "cell_type": "markdown",
   "id": "f5cbda24-b880-4c4a-984d-323c3fb96bc6",
   "metadata": {},
   "source": [
    "### Solution 3 - using Sort and reverse"
   ]
  },
  {
   "cell_type": "code",
   "execution_count": 6,
   "id": "0dda9774-71fe-4812-a3d3-0134c62ef9f3",
   "metadata": {},
   "outputs": [],
   "source": [
    "a = [10,20,30,40,50,100,80,60,70]"
   ]
  },
  {
   "cell_type": "code",
   "execution_count": 7,
   "id": "dbad4928-e682-4201-94c8-7b9d2d59b455",
   "metadata": {},
   "outputs": [],
   "source": [
    "def find_max_number(a):\n",
    "    a.sort(reverse=True)\n",
    "    return a[0]"
   ]
  },
  {
   "cell_type": "code",
   "execution_count": 8,
   "id": "1227a783-2ad2-40f3-9a3e-decb8042ecba",
   "metadata": {},
   "outputs": [
    {
     "data": {
      "text/plain": [
       "100"
      ]
     },
     "execution_count": 8,
     "metadata": {},
     "output_type": "execute_result"
    }
   ],
   "source": [
    "find_max_number(a)"
   ]
  },
  {
   "cell_type": "markdown",
   "id": "1b9223ee-0078-4e9d-9a78-4c0718430041",
   "metadata": {},
   "source": [
    "### Solution 4 - using for loop"
   ]
  },
  {
   "cell_type": "code",
   "execution_count": 9,
   "id": "abbe567c-c460-41c4-a378-356bf4449ca0",
   "metadata": {},
   "outputs": [],
   "source": [
    "a = [10,20,30,40,50,100,80,60,70,120]"
   ]
  },
  {
   "cell_type": "code",
   "execution_count": 10,
   "id": "eae3a88a-8d02-49c0-91c3-c13a51e4a0d5",
   "metadata": {},
   "outputs": [],
   "source": [
    "def find_max_num_(a):\n",
    "    if not a:  # handle empty list case\n",
    "        print(None)\n",
    "    else:\n",
    "        max_num = a[0]     \n",
    "    for num in a[1:]:   \n",
    "        if num > max_num:  \n",
    "            max_num = num\n",
    "    print(max_num)      "
   ]
  },
  {
   "cell_type": "code",
   "execution_count": 11,
   "id": "c937c59b-c577-4bf2-9340-9178339c6a31",
   "metadata": {},
   "outputs": [
    {
     "name": "stdout",
     "output_type": "stream",
     "text": [
      "120\n"
     ]
    }
   ],
   "source": [
    "find_max_num_(a)"
   ]
  },
  {
   "cell_type": "code",
   "execution_count": null,
   "id": "8a55bc15-4b00-441e-9a72-f84d9834b3b1",
   "metadata": {},
   "outputs": [],
   "source": []
  },
  {
   "cell_type": "code",
   "execution_count": null,
   "id": "f5145f39-b4cd-45e9-b83a-88ecdc123e07",
   "metadata": {},
   "outputs": [],
   "source": []
  },
  {
   "cell_type": "code",
   "execution_count": null,
   "id": "d7592576-4b03-4f47-ac12-0ffca728e126",
   "metadata": {},
   "outputs": [],
   "source": []
  },
  {
   "cell_type": "code",
   "execution_count": null,
   "id": "98cec16a-8c29-4241-b473-22c67210e736",
   "metadata": {},
   "outputs": [],
   "source": []
  },
  {
   "cell_type": "code",
   "execution_count": null,
   "id": "d99d64e8-9b27-4621-b053-c03a53f87034",
   "metadata": {},
   "outputs": [],
   "source": []
  },
  {
   "cell_type": "code",
   "execution_count": null,
   "id": "4cabe3ec-a96e-4b8f-8e07-7250d9885ffe",
   "metadata": {},
   "outputs": [],
   "source": []
  }
 ],
 "metadata": {
  "kernelspec": {
   "display_name": "Python 3 (ipykernel)",
   "language": "python",
   "name": "python3"
  },
  "language_info": {
   "codemirror_mode": {
    "name": "ipython",
    "version": 3
   },
   "file_extension": ".py",
   "mimetype": "text/x-python",
   "name": "python",
   "nbconvert_exporter": "python",
   "pygments_lexer": "ipython3",
   "version": "3.12.4"
  }
 },
 "nbformat": 4,
 "nbformat_minor": 5
}
